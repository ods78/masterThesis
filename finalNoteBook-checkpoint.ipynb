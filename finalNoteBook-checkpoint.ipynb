{
 "cells": [
  {
   "cell_type": "code",
   "execution_count": 31,
   "id": "9d8f31ac-c3a3-432d-86c5-ba16a28994cd",
   "metadata": {},
   "outputs": [],
   "source": [
    "import pandas as pd\n",
    "import re  \n",
    "import numpy as np\n",
    "df = pd.read_excel(\"Results1402.xlsx\")\n",
    "data =df"
   ]
  },
  {
   "cell_type": "code",
   "execution_count": 32,
   "id": "728f3dd2-35fb-4349-8ced-001a79cb0679",
   "metadata": {},
   "outputs": [
    {
     "name": "stdout",
     "output_type": "stream",
     "text": [
      "PID       2097\n",
      "TName      264\n",
      "Result    7997\n",
      "dtype: int64\n"
     ]
    }
   ],
   "source": [
    "df.head()\n",
    "distinct_count = df.nunique()\n",
    "print(distinct_count)"
   ]
  },
  {
   "cell_type": "code",
   "execution_count": 48,
   "id": "e743f77c-b106-4dde-af2c-96e51946cdf5",
   "metadata": {},
   "outputs": [
    {
     "ename": "SyntaxError",
     "evalue": "invalid syntax. Perhaps you forgot a comma? (1054898285.py, line 46)",
     "output_type": "error",
     "traceback": [
      "\u001b[1;36m  Cell \u001b[1;32mIn[48], line 46\u001b[1;36m\u001b[0m\n\u001b[1;33m    print(df_pivot['Hb A1C'] x > 6.5)\u001b[0m\n\u001b[1;37m                  ^\u001b[0m\n\u001b[1;31mSyntaxError\u001b[0m\u001b[1;31m:\u001b[0m invalid syntax. Perhaps you forgot a comma?\n"
     ]
    }
   ],
   "source": [
    "import pandas as pd\n",
    "import numpy as np\n",
    "\n",
    "# Load the dataset\n",
    "# Load the dataset\n",
    "df = pd.DataFrame(data)\n",
    "\n",
    "# Step 1: Clean the Result column\n",
    "def process_result(value):\n",
    "    try:\n",
    "        # Handle numeric values with '/' (e.g., \"71/68\" -> (71+68)/2)\n",
    "        if isinstance(value, str) and \"/\" in value:\n",
    "            parts = value.split(\"/\")\n",
    "            return np.mean([float(p) for p in parts if p.strip().replace('.', '', 1).isdigit()])\n",
    "        \n",
    "        # Replace known invalid values with NaN\n",
    "        if isinstance(value, str) and (value.strip() in [\"*\", \"Negative\"] or value.strip() == \"\"):\n",
    "            return np.nan\n",
    "        \n",
    "        # Convert valid numeric strings to float\n",
    "        return float(value)\n",
    "    except (ValueError, TypeError):\n",
    "        # Handle non-numeric types like datetime or invalid strings\n",
    "        return np.nan\n",
    "\n",
    "# Apply the cleaning function to the Result column\n",
    "df['Result'] = df['Result'].apply(process_result)\n",
    "\n",
    "# Step 2: Fill NaN values with the mean of each test (TName)\n",
    "df['Result'] = df.groupby('TName')['Result'].transform(lambda x: x.fillna(x.mean()))\n",
    "\n",
    "# Step 3: Remove duplicates\n",
    "df = df.drop_duplicates(subset=['PID', 'TName'])\n",
    "\n",
    "# Step 4: Pivot to wide format\n",
    "df_pivot = df.pivot(index='PID', columns='TName', values='Result').reset_index()\n",
    "\n",
    "# Step 5: Create the Target column based on Hb A1C\n",
    "# Ensure the Hb A1C column exists in the pivoted DataFrame\n",
    "if 'Hb A1C' in df_pivot.columns:\n",
    "    # Clean the Hb A1C column to extract numeric values (e.g., \"8.7 *\" -> 8.7)\n",
    "    df_pivot['Hb A1C'] = df_pivot['Hb A1C'].apply(lambda x: float(re.search(r'\\d+\\.\\d+', str(x)).group()) if re.search(r'\\d+\\.\\d+', str(x)) else np.nan)\n",
    "    \n",
    "    # Create the Target column based on Hb A1C\n",
    "    df_pivot['Target'] = df_pivot['Hb A1C'].apply(lambda x: 1 if x >= 6.5 else 0)\n",
    "    print(df_pivot['Hb A1C'] x > 6.5)\n",
    "else:\n",
    "    print(\"Warning: 'Hb A1C' column not found in the pivoted DataFrame.\")\n",
    "# Print the processed DataFrame\n"
   ]
  },
  {
   "cell_type": "code",
   "execution_count": 45,
   "id": "457fd87a-af90-4364-8cf6-957f7d2574a1",
   "metadata": {},
   "outputs": [],
   "source": [
    "output_file = \"1402 processed.xlsx\"  # Specify the output file name\n",
    "pivotData.to_excel(output_file, index=False)  # Write to Excel without including the index"
   ]
  },
  {
   "cell_type": "code",
   "execution_count": 27,
   "id": "7b58aea3-7665-4b69-914d-3a84db11df5a",
   "metadata": {},
   "outputs": [
    {
     "name": "stdout",
     "output_type": "stream",
     "text": [
      "0       False\n",
      "1       False\n",
      "2       False\n",
      "3       False\n",
      "4       False\n",
      "        ...  \n",
      "2092    False\n",
      "2093    False\n",
      "2094    False\n",
      "2095    False\n",
      "2096    False\n",
      "Name: Hb A1C, Length: 2097, dtype: bool\n"
     ]
    }
   ],
   "source": []
  },
  {
   "cell_type": "code",
   "execution_count": null,
   "id": "28e5405f-cc79-4bcf-828c-e10e2b632b87",
   "metadata": {},
   "outputs": [],
   "source": []
  }
 ],
 "metadata": {
  "kernelspec": {
   "display_name": "Python 3 (ipykernel)",
   "language": "python",
   "name": "python3"
  },
  "language_info": {
   "codemirror_mode": {
    "name": "ipython",
    "version": 3
   },
   "file_extension": ".py",
   "mimetype": "text/x-python",
   "name": "python",
   "nbconvert_exporter": "python",
   "pygments_lexer": "ipython3",
   "version": "3.10.0"
  }
 },
 "nbformat": 4,
 "nbformat_minor": 5
}
